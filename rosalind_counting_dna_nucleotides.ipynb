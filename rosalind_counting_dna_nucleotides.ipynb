{
  "nbformat": 4,
  "nbformat_minor": 0,
  "metadata": {
    "colab": {
      "provenance": []
    },
    "kernelspec": {
      "name": "python3",
      "display_name": "Python 3"
    },
    "language_info": {
      "name": "python"
    }
  },
  "cells": [
    {
      "cell_type": "code",
      "source": [
        "### Tutorial by Britney Forsyth"
      ],
      "metadata": {
        "id": "EIreDV3AY6YZ"
      },
      "execution_count": null,
      "outputs": []
    },
    {
      "cell_type": "code",
      "source": [
        "'''\n",
        "Strings refer to an ordered sequence of character.\n",
        "These strings are typically defined in quotation marks.\n",
        "'''"
      ],
      "metadata": {
        "id": "4a6djtHvvXde"
      },
      "execution_count": null,
      "outputs": []
    },
    {
      "cell_type": "code",
      "source": [
        "# Strings can be defined with single quotes.\n",
        "string_1 = 'This is a string.'\n",
        "\n",
        "# Strings can also be defined with double quotes.\n",
        "string_2 = \"This is also a string.\"\n",
        "\n",
        "# Multi-line strings can be defined with triple quotes.\n",
        "string_3 = '''This is a multi-line\n",
        "string. It can span multiple lines.'''"
      ],
      "metadata": {
        "id": "5WWDXwBkv13g"
      },
      "execution_count": null,
      "outputs": []
    },
    {
      "cell_type": "code",
      "source": [
        "# We can also define a DNA sequence as a string.\n",
        "dna_string = \"ATGCTTCAGAAAGGTCTTACG\""
      ],
      "metadata": {
        "id": "7R5CtFJfwXlz"
      },
      "execution_count": null,
      "outputs": []
    },
    {
      "cell_type": "markdown",
      "source": [
        "---\n",
        "# Given a DNA string s of length at most 1000 nucleotides (nt), your task is to count the number of times each symbol ('A', 'C', 'G', and 'T') occurs in the string and return these counts as four integers separated by spaces. The DNA sequence is given as a .txt file."
      ],
      "metadata": {
        "id": "ARGckhq_yQKa"
      }
    },
    {
      "cell_type": "code",
      "source": [
        "# First, let's mount Google Drive to access files.\n",
        "from google.colab import drive\n",
        "drive.mount('/content/drive')"
      ],
      "metadata": {
        "colab": {
          "base_uri": "https://localhost:8080/"
        },
        "id": "WtJaguJ-yPUQ",
        "outputId": "060c5877-c963-4b49-a501-8d543e3304c2"
      },
      "execution_count": null,
      "outputs": [
        {
          "output_type": "stream",
          "name": "stdout",
          "text": [
            "Mounted at /content/drive\n"
          ]
        }
      ]
    },
    {
      "cell_type": "code",
      "source": [
        "# Let's read in the DNA sequence text file.\n",
        "file_path = '/content/drive/MyDrive/rosalind_bioinformatics_stronghold/rosalind_dna.txt'\n",
        "\n",
        "with open(file_path, 'r') as file:\n",
        "    dna_string = file.read().strip()"
      ],
      "metadata": {
        "id": "OKEDDN4S0pCm"
      },
      "execution_count": null,
      "outputs": []
    },
    {
      "cell_type": "code",
      "source": [
        "# Let's print the DNA string just for validation\n",
        "print(dna_string)"
      ],
      "metadata": {
        "colab": {
          "base_uri": "https://localhost:8080/"
        },
        "id": "fFBoA9Ij1DMr",
        "outputId": "ce2124d5-aa3a-411d-84bb-1a6bd250947b"
      },
      "execution_count": null,
      "outputs": [
        {
          "output_type": "stream",
          "name": "stdout",
          "text": [
            "ACGATCGAAGAACGGAACTCCATTAGACCTAACGGCTCCCATACGGAAGACAGCATAGAGCAAGAGTGACTCGCTAGGGCCAAGCAACTCTTTTAGAAAAGCTGACAACCCGAAATAGCGGCCTGGACCCTGAACCCTAGTGAAGAGTATGAATAGCTTTACCTGCTATTCTGAGAGTTGGATCACATATGTCGTCTTTTGTGCTTTAGGCAATATTACCTCCTGACCGGCCAGTAGGCAAATGTAGTGACCTCGCATCATCAAAACGAGGAATACATGAGCTAGAGACGAATAAAGGACCCCTGGAACATTTATACGCGCATGGTGCCCTGATGGGTCCGGAATCTGAGGCTTTTGGCGCAGTCTGCGTACTTACCTTTTGCTCATGGGTTATATCTGATTGATTCAAGAAAGTTCGTGTACCGGCCCTGAGCACATATAAACTTTGATGAATCGAAGAGCACTGTTCCAGGCAATACGTGCTTTCGTATAGCGTAGAAAGACTTTAGACGTTAATGAGCCAGGTGCCGCTAATTAATGACTACACAGGACAGGTTAGCGCGGATTTTAGTCTACGGGGTGCTAATACTCATTACGTAAAAATAGTGTGATCCCAGAACCATCACGGGTACTCTCAGGGGACATAGCCTATGATGTATGGAGCATGAAGGACGACGTCCGAGGGAGGCGTATTTCCATTCCTGAGGACAGTACACCCGTGCGACCAAGGTACTTATCTGCTATGCAGCCCCTACTTTGGCACTAACTGAATAGGAGTCTCTGCAAGACCGGCGGCAGTTTTAGTGACAGGACTATGGAGGTACGTCACTCTCCTAGTCAGACTTAGGGCACTATTCTACCCGGTCGAACCCCAATCAACTGCATCGCCTCGTAGCGATCTTCTGGCGTCAATACTCATACGAGAC\n"
          ]
        }
      ]
    },
    {
      "cell_type": "code",
      "source": [
        "def count_nucleotides(dna_string):\n",
        "  \"\"\"\n",
        "  Args:\n",
        "    dna_string: a string type of the dna sequence\n",
        "  \"\"\"\n",
        "  # Initialize counters for each nucleotide\n",
        "  count_A = 0\n",
        "  count_C = 0\n",
        "  count_T = 0\n",
        "  count_G = 0\n",
        "\n",
        "  # Loop through the DNA string and count each nucleotide\n",
        "  for nucleotide in dna_string:\n",
        "    if nucleotide == 'A':\n",
        "      count_A += 1\n",
        "    elif nucleotide == 'C':\n",
        "      count_C += 1\n",
        "    elif nucleotide == 'T':\n",
        "      count_T += 1\n",
        "    elif nucleotide == 'G':\n",
        "      count_G += 1\n",
        "\n",
        "  # Print the counts separated by spaces\n",
        "  print(count_A, count_C, count_G, count_T)\n"
      ],
      "metadata": {
        "id": "YV3kRfzB1KuV"
      },
      "execution_count": null,
      "outputs": []
    },
    {
      "cell_type": "code",
      "source": [
        "# Let's use the function on the DNA string defined in the text file\n",
        "count_nucleotides(dna_string)"
      ],
      "metadata": {
        "colab": {
          "base_uri": "https://localhost:8080/"
        },
        "id": "W8Q--hdC25M1",
        "outputId": "28423d42-9e92-42c7-c047-e15bd3c83d9e"
      },
      "execution_count": null,
      "outputs": [
        {
          "output_type": "stream",
          "name": "stdout",
          "text": [
            "255 220 226 225\n"
          ]
        }
      ]
    }
  ]
}